{
 "cells": [
  {
   "cell_type": "code",
   "execution_count": 1,
   "metadata": {
    "collapsed": true
   },
   "outputs": [],
   "source": [
    "import ast\n",
    "from os.path import commonprefix\n",
    "from urllib.parse import urlparse, parse_qs\n",
    "\n",
    "import pandas as pd"
   ]
  },
  {
   "cell_type": "code",
   "execution_count": 2,
   "outputs": [
    {
     "data": {
      "text/plain": "                                             Content  \\\n0  At the southern tip of the Australian continen...   \n1       An immense wilderness, divided by mountains.   \n2  It's a world of ancient forests, of pristine r...   \n3  Its animal inhabitants are as extraordinary as...   \n4  This is a land of black devils and white walla...   \n\n                                                Name  \\\n0  David Attenborough's | Tasmania | Weird and Wo...   \n1  David Attenborough's | Tasmania | Weird and Wo...   \n2  David Attenborough's | Tasmania | Weird and Wo...   \n3  David Attenborough's | Tasmania | Weird and Wo...   \n4  David Attenborough's | Tasmania | Weird and Wo...   \n\n                                            Metadata  \\\n0  {'start': 0, 'end': 82, 'id': 'https://www.you...   \n1  {'start': 17, 'end': 112, 'id': 'https://www.y...   \n2  {'start': 28, 'end': 116, 'id': 'https://www.y...   \n3  {'start': 49, 'end': 130, 'id': 'https://www.y...   \n4  {'start': 60, 'end': 138, 'id': 'https://www.y...   \n\n                                     Tags  \n0  DAVID ATTENBOROUGH: FULL DOCUMENTARIES  \n1  DAVID ATTENBOROUGH: FULL DOCUMENTARIES  \n2  DAVID ATTENBOROUGH: FULL DOCUMENTARIES  \n3  DAVID ATTENBOROUGH: FULL DOCUMENTARIES  \n4  DAVID ATTENBOROUGH: FULL DOCUMENTARIES  ",
      "text/html": "<div>\n<style scoped>\n    .dataframe tbody tr th:only-of-type {\n        vertical-align: middle;\n    }\n\n    .dataframe tbody tr th {\n        vertical-align: top;\n    }\n\n    .dataframe thead th {\n        text-align: right;\n    }\n</style>\n<table border=\"1\" class=\"dataframe\">\n  <thead>\n    <tr style=\"text-align: right;\">\n      <th></th>\n      <th>Content</th>\n      <th>Name</th>\n      <th>Metadata</th>\n      <th>Tags</th>\n    </tr>\n  </thead>\n  <tbody>\n    <tr>\n      <th>0</th>\n      <td>At the southern tip of the Australian continen...</td>\n      <td>David Attenborough's | Tasmania | Weird and Wo...</td>\n      <td>{'start': 0, 'end': 82, 'id': 'https://www.you...</td>\n      <td>DAVID ATTENBOROUGH: FULL DOCUMENTARIES</td>\n    </tr>\n    <tr>\n      <th>1</th>\n      <td>An immense wilderness, divided by mountains.</td>\n      <td>David Attenborough's | Tasmania | Weird and Wo...</td>\n      <td>{'start': 17, 'end': 112, 'id': 'https://www.y...</td>\n      <td>DAVID ATTENBOROUGH: FULL DOCUMENTARIES</td>\n    </tr>\n    <tr>\n      <th>2</th>\n      <td>It's a world of ancient forests, of pristine r...</td>\n      <td>David Attenborough's | Tasmania | Weird and Wo...</td>\n      <td>{'start': 28, 'end': 116, 'id': 'https://www.y...</td>\n      <td>DAVID ATTENBOROUGH: FULL DOCUMENTARIES</td>\n    </tr>\n    <tr>\n      <th>3</th>\n      <td>Its animal inhabitants are as extraordinary as...</td>\n      <td>David Attenborough's | Tasmania | Weird and Wo...</td>\n      <td>{'start': 49, 'end': 130, 'id': 'https://www.y...</td>\n      <td>DAVID ATTENBOROUGH: FULL DOCUMENTARIES</td>\n    </tr>\n    <tr>\n      <th>4</th>\n      <td>This is a land of black devils and white walla...</td>\n      <td>David Attenborough's | Tasmania | Weird and Wo...</td>\n      <td>{'start': 60, 'end': 138, 'id': 'https://www.y...</td>\n      <td>DAVID ATTENBOROUGH: FULL DOCUMENTARIES</td>\n    </tr>\n  </tbody>\n</table>\n</div>"
     },
     "execution_count": 2,
     "metadata": {},
     "output_type": "execute_result"
    }
   ],
   "source": [
    "\"\"\" Read sentence-level library \"\"\"\n",
    "sentences = pd.read_excel(\"uk_library\\\\attenborough_sentences.xlsx\")\n",
    "sentences.head()"
   ],
   "metadata": {
    "collapsed": false
   }
  },
  {
   "cell_type": "code",
   "execution_count": 3,
   "outputs": [
    {
     "name": "stdout",
     "output_type": "stream",
     "text": [
      "5HnoTT7so8w\n"
     ]
    },
    {
     "data": {
      "text/plain": "            Id                                               Name\n0  RMeacmRH0wA  David Attenborough's | Tasmania | Weird and Wo...\n1  RMeacmRH0wA  David Attenborough's | Tasmania | Weird and Wo...\n2  RMeacmRH0wA  David Attenborough's | Tasmania | Weird and Wo...\n3  RMeacmRH0wA  David Attenborough's | Tasmania | Weird and Wo...\n4  RMeacmRH0wA  David Attenborough's | Tasmania | Weird and Wo...",
      "text/html": "<div>\n<style scoped>\n    .dataframe tbody tr th:only-of-type {\n        vertical-align: middle;\n    }\n\n    .dataframe tbody tr th {\n        vertical-align: top;\n    }\n\n    .dataframe thead th {\n        text-align: right;\n    }\n</style>\n<table border=\"1\" class=\"dataframe\">\n  <thead>\n    <tr style=\"text-align: right;\">\n      <th></th>\n      <th>Id</th>\n      <th>Name</th>\n    </tr>\n  </thead>\n  <tbody>\n    <tr>\n      <th>0</th>\n      <td>RMeacmRH0wA</td>\n      <td>David Attenborough's | Tasmania | Weird and Wo...</td>\n    </tr>\n    <tr>\n      <th>1</th>\n      <td>RMeacmRH0wA</td>\n      <td>David Attenborough's | Tasmania | Weird and Wo...</td>\n    </tr>\n    <tr>\n      <th>2</th>\n      <td>RMeacmRH0wA</td>\n      <td>David Attenborough's | Tasmania | Weird and Wo...</td>\n    </tr>\n    <tr>\n      <th>3</th>\n      <td>RMeacmRH0wA</td>\n      <td>David Attenborough's | Tasmania | Weird and Wo...</td>\n    </tr>\n    <tr>\n      <th>4</th>\n      <td>RMeacmRH0wA</td>\n      <td>David Attenborough's | Tasmania | Weird and Wo...</td>\n    </tr>\n  </tbody>\n</table>\n</div>"
     },
     "execution_count": 3,
     "metadata": {},
     "output_type": "execute_result"
    }
   ],
   "source": [
    "\"\"\" Equip sentences with unique video id \"\"\"\n",
    "def parse_url(metadata: str):\n",
    "    # Get url from metadata dict\n",
    "    return ast.literal_eval(metadata)[\"id\"]\n",
    "\n",
    "def parse_id(url: str):\n",
    "    # parse id from youtube url\n",
    "    parse_result = urlparse(url)\n",
    "    query_params = parse_qs(parse_result.query)\n",
    "    return query_params[\"v\"][0]\n",
    "\n",
    "print(parse_id(\"https://www.youtube.com/watch?v=5HnoTT7so8w&t=0s\"))\n",
    "\n",
    "sentences[\"Id\"] = sentences[\"Metadata\"].apply(lambda metadata: parse_id(parse_url(metadata)))\n",
    "sentences[[\"Id\", \"Name\"]].head()"
   ],
   "metadata": {
    "collapsed": false
   }
  },
  {
   "cell_type": "code",
   "execution_count": 4,
   "outputs": [
    {
     "data": {
      "text/plain": "                                                          Name  \\\nId                                                               \n7MxeAPR-uvQ  A Perfect Planet: Prequel | New David Attenbor...   \n7yn9hZb9M2U         Empire of the Ants 2020 BBC Documentary HD   \n8J7ycovMqMo  Animals of Africa with David Attenborough - HD...   \n9FqwhW0B3tY    Our Planet | High Seas | FULL EPISODE | Netflix   \n9Nr_XukuCZM  Animals of Africa in HIGH DEFINITION HD Docume...   \n\n                                                       Content  \\\nId                                                               \n7MxeAPR-uvQ  This is a perfect planet.\\nLife flourishes her...   \n7yn9hZb9M2U  The Jura Mountains on the French-Swiss border ...   \n8J7ycovMqMo  After crossing the Mara River, the herds follo...   \n9FqwhW0B3tY  Just 50 years ago, we finally ventured to the ...   \n9Nr_XukuCZM  After crossing the Mara River, the herds follo...   \n\n                                               Tags  \\\nId                                                    \n7MxeAPR-uvQ  DAVID ATTENBOROUGH: FULL DOCUMENTARIES   \n7yn9hZb9M2U  DAVID ATTENBOROUGH: FULL DOCUMENTARIES   \n8J7ycovMqMo  DAVID ATTENBOROUGH: FULL DOCUMENTARIES   \n9FqwhW0B3tY  DAVID ATTENBOROUGH: FULL DOCUMENTARIES   \n9Nr_XukuCZM  DAVID ATTENBOROUGH: FULL DOCUMENTARIES   \n\n                                                      Metadata  \nId                                                              \n7MxeAPR-uvQ  {'start': 0, 'end': 92, 'id': 'https://www.you...  \n7yn9hZb9M2U  {'start': 0, 'end': 55, 'id': 'https://www.you...  \n8J7ycovMqMo  {'start': 0, 'end': 34, 'id': 'https://www.you...  \n9FqwhW0B3tY  {'start': 0, 'end': 112, 'id': 'https://www.yo...  \n9Nr_XukuCZM  {'start': 0, 'end': 34, 'id': 'https://www.you...  ",
      "text/html": "<div>\n<style scoped>\n    .dataframe tbody tr th:only-of-type {\n        vertical-align: middle;\n    }\n\n    .dataframe tbody tr th {\n        vertical-align: top;\n    }\n\n    .dataframe thead th {\n        text-align: right;\n    }\n</style>\n<table border=\"1\" class=\"dataframe\">\n  <thead>\n    <tr style=\"text-align: right;\">\n      <th></th>\n      <th>Name</th>\n      <th>Content</th>\n      <th>Tags</th>\n      <th>Metadata</th>\n    </tr>\n    <tr>\n      <th>Id</th>\n      <th></th>\n      <th></th>\n      <th></th>\n      <th></th>\n    </tr>\n  </thead>\n  <tbody>\n    <tr>\n      <th>7MxeAPR-uvQ</th>\n      <td>A Perfect Planet: Prequel | New David Attenbor...</td>\n      <td>This is a perfect planet.\\nLife flourishes her...</td>\n      <td>DAVID ATTENBOROUGH: FULL DOCUMENTARIES</td>\n      <td>{'start': 0, 'end': 92, 'id': 'https://www.you...</td>\n    </tr>\n    <tr>\n      <th>7yn9hZb9M2U</th>\n      <td>Empire of the Ants 2020 BBC Documentary HD</td>\n      <td>The Jura Mountains on the French-Swiss border ...</td>\n      <td>DAVID ATTENBOROUGH: FULL DOCUMENTARIES</td>\n      <td>{'start': 0, 'end': 55, 'id': 'https://www.you...</td>\n    </tr>\n    <tr>\n      <th>8J7ycovMqMo</th>\n      <td>Animals of Africa with David Attenborough - HD...</td>\n      <td>After crossing the Mara River, the herds follo...</td>\n      <td>DAVID ATTENBOROUGH: FULL DOCUMENTARIES</td>\n      <td>{'start': 0, 'end': 34, 'id': 'https://www.you...</td>\n    </tr>\n    <tr>\n      <th>9FqwhW0B3tY</th>\n      <td>Our Planet | High Seas | FULL EPISODE | Netflix</td>\n      <td>Just 50 years ago, we finally ventured to the ...</td>\n      <td>DAVID ATTENBOROUGH: FULL DOCUMENTARIES</td>\n      <td>{'start': 0, 'end': 112, 'id': 'https://www.yo...</td>\n    </tr>\n    <tr>\n      <th>9Nr_XukuCZM</th>\n      <td>Animals of Africa in HIGH DEFINITION HD Docume...</td>\n      <td>After crossing the Mara River, the herds follo...</td>\n      <td>DAVID ATTENBOROUGH: FULL DOCUMENTARIES</td>\n      <td>{'start': 0, 'end': 34, 'id': 'https://www.you...</td>\n    </tr>\n  </tbody>\n</table>\n</div>"
     },
     "execution_count": 4,
     "metadata": {},
     "output_type": "execute_result"
    }
   ],
   "source": [
    "\"\"\" Join all sentences belonging to the same video on new lines \"\"\"\n",
    "transcripts = sentences.groupby(\"Id\").agg({\n",
    "    \"Name\": lambda names: commonprefix(list(names))[:-1],\n",
    "    \"Content\": \"\\n\".join,\n",
    "    \"Tags\": \"first\",\n",
    "    \"Metadata\": \"first\"\n",
    "})\n",
    "transcripts.head()"
   ],
   "metadata": {
    "collapsed": false
   }
  },
  {
   "cell_type": "code",
   "execution_count": 5,
   "outputs": [],
   "source": [
    "\"\"\" Clean the resulting data and tag the entries appropriately \"\"\"\n",
    "def delete_video_positions(metadata: str):\n",
    "    dct = ast.literal_eval(metadata)\n",
    "    del dct[\"start\"]\n",
    "    del dct[\"end\"]\n",
    "    return str(dct)\n",
    "\n",
    "transcripts[\"Metadata\"] = transcripts[\"Metadata\"].apply(delete_video_positions)\n",
    "\n",
    "transcripts[\"Tags\"] = transcripts[\"Tags\"].apply(lambda tags: \"TRANSCRIPT_LEVEL, \" + tags)\n",
    "sentences[\"Tags\"] = sentences[\"Tags\"].apply(lambda tags: \"SENTENCE_LEVEL, \" + tags)"
   ],
   "metadata": {
    "collapsed": false
   }
  },
  {
   "cell_type": "code",
   "execution_count": 6,
   "outputs": [
    {
     "data": {
      "text/plain": "                                                   Name  \\\n0     A Perfect Planet: Prequel | New David Attenbor...   \n1            Empire of the Ants 2020 BBC Documentary HD   \n2     Animals of Africa with David Attenborough - HD...   \n3       Our Planet | High Seas | FULL EPISODE | Netflix   \n4     Animals of Africa in HIGH DEFINITION HD Docume...   \n...                                                 ...   \n8122     Empire of the Ants 2020 BBC Documentary HD_367   \n8123     Empire of the Ants 2020 BBC Documentary HD_368   \n8124     Empire of the Ants 2020 BBC Documentary HD_369   \n8125     Empire of the Ants 2020 BBC Documentary HD_370   \n8126     Empire of the Ants 2020 BBC Documentary HD_371   \n\n                                                Content  \\\n0     This is a perfect planet.\\nLife flourishes her...   \n1     The Jura Mountains on the French-Swiss border ...   \n2     After crossing the Mara River, the herds follo...   \n3     Just 50 years ago, we finally ventured to the ...   \n4     After crossing the Mara River, the herds follo...   \n...                                                 ...   \n8122  With the help of Frank and Cam, they took us i...   \n8123  And remarkably, using a tiny lens just like th...   \n8124  Searching out the true story of Jumbo, the fir...   \n8125    Who'd be a Ranganathan when your dad tells all?   \n8126  Promess Ranganathan Irrational live next here ...   \n\n                                                   Tags  \\\n0     TRANSCRIPT_LEVEL, DAVID ATTENBOROUGH: FULL DOC...   \n1     TRANSCRIPT_LEVEL, DAVID ATTENBOROUGH: FULL DOC...   \n2     TRANSCRIPT_LEVEL, DAVID ATTENBOROUGH: FULL DOC...   \n3     TRANSCRIPT_LEVEL, DAVID ATTENBOROUGH: FULL DOC...   \n4     TRANSCRIPT_LEVEL, DAVID ATTENBOROUGH: FULL DOC...   \n...                                                 ...   \n8122  SENTENCE_LEVEL, DAVID ATTENBOROUGH: FULL DOCUM...   \n8123  SENTENCE_LEVEL, DAVID ATTENBOROUGH: FULL DOCUM...   \n8124  SENTENCE_LEVEL, DAVID ATTENBOROUGH: FULL DOCUM...   \n8125  SENTENCE_LEVEL, DAVID ATTENBOROUGH: FULL DOCUM...   \n8126  SENTENCE_LEVEL, DAVID ATTENBOROUGH: FULL DOCUM...   \n\n                                               Metadata  \n0     {'id': 'https://www.youtube.com/watch?v=7MxeAP...  \n1     {'id': 'https://www.youtube.com/watch?v=7yn9hZ...  \n2     {'id': 'https://www.youtube.com/watch?v=8J7yco...  \n3     {'id': 'https://www.youtube.com/watch?v=9FqwhW...  \n4     {'id': 'https://www.youtube.com/watch?v=9Nr_Xu...  \n...                                                 ...  \n8122  {'start': 3502, 'end': 3537, 'id': 'https://ww...  \n8123  {'start': 3507, 'end': 3537, 'id': 'https://ww...  \n8124  {'start': 3521, 'end': 3537, 'id': 'https://ww...  \n8125  {'start': 3528, 'end': 3537, 'id': 'https://ww...  \n8126  {'start': 3532, 'end': 3537, 'id': 'https://ww...  \n\n[8127 rows x 4 columns]",
      "text/html": "<div>\n<style scoped>\n    .dataframe tbody tr th:only-of-type {\n        vertical-align: middle;\n    }\n\n    .dataframe tbody tr th {\n        vertical-align: top;\n    }\n\n    .dataframe thead th {\n        text-align: right;\n    }\n</style>\n<table border=\"1\" class=\"dataframe\">\n  <thead>\n    <tr style=\"text-align: right;\">\n      <th></th>\n      <th>Name</th>\n      <th>Content</th>\n      <th>Tags</th>\n      <th>Metadata</th>\n    </tr>\n  </thead>\n  <tbody>\n    <tr>\n      <th>0</th>\n      <td>A Perfect Planet: Prequel | New David Attenbor...</td>\n      <td>This is a perfect planet.\\nLife flourishes her...</td>\n      <td>TRANSCRIPT_LEVEL, DAVID ATTENBOROUGH: FULL DOC...</td>\n      <td>{'id': 'https://www.youtube.com/watch?v=7MxeAP...</td>\n    </tr>\n    <tr>\n      <th>1</th>\n      <td>Empire of the Ants 2020 BBC Documentary HD</td>\n      <td>The Jura Mountains on the French-Swiss border ...</td>\n      <td>TRANSCRIPT_LEVEL, DAVID ATTENBOROUGH: FULL DOC...</td>\n      <td>{'id': 'https://www.youtube.com/watch?v=7yn9hZ...</td>\n    </tr>\n    <tr>\n      <th>2</th>\n      <td>Animals of Africa with David Attenborough - HD...</td>\n      <td>After crossing the Mara River, the herds follo...</td>\n      <td>TRANSCRIPT_LEVEL, DAVID ATTENBOROUGH: FULL DOC...</td>\n      <td>{'id': 'https://www.youtube.com/watch?v=8J7yco...</td>\n    </tr>\n    <tr>\n      <th>3</th>\n      <td>Our Planet | High Seas | FULL EPISODE | Netflix</td>\n      <td>Just 50 years ago, we finally ventured to the ...</td>\n      <td>TRANSCRIPT_LEVEL, DAVID ATTENBOROUGH: FULL DOC...</td>\n      <td>{'id': 'https://www.youtube.com/watch?v=9FqwhW...</td>\n    </tr>\n    <tr>\n      <th>4</th>\n      <td>Animals of Africa in HIGH DEFINITION HD Docume...</td>\n      <td>After crossing the Mara River, the herds follo...</td>\n      <td>TRANSCRIPT_LEVEL, DAVID ATTENBOROUGH: FULL DOC...</td>\n      <td>{'id': 'https://www.youtube.com/watch?v=9Nr_Xu...</td>\n    </tr>\n    <tr>\n      <th>...</th>\n      <td>...</td>\n      <td>...</td>\n      <td>...</td>\n      <td>...</td>\n    </tr>\n    <tr>\n      <th>8122</th>\n      <td>Empire of the Ants 2020 BBC Documentary HD_367</td>\n      <td>With the help of Frank and Cam, they took us i...</td>\n      <td>SENTENCE_LEVEL, DAVID ATTENBOROUGH: FULL DOCUM...</td>\n      <td>{'start': 3502, 'end': 3537, 'id': 'https://ww...</td>\n    </tr>\n    <tr>\n      <th>8123</th>\n      <td>Empire of the Ants 2020 BBC Documentary HD_368</td>\n      <td>And remarkably, using a tiny lens just like th...</td>\n      <td>SENTENCE_LEVEL, DAVID ATTENBOROUGH: FULL DOCUM...</td>\n      <td>{'start': 3507, 'end': 3537, 'id': 'https://ww...</td>\n    </tr>\n    <tr>\n      <th>8124</th>\n      <td>Empire of the Ants 2020 BBC Documentary HD_369</td>\n      <td>Searching out the true story of Jumbo, the fir...</td>\n      <td>SENTENCE_LEVEL, DAVID ATTENBOROUGH: FULL DOCUM...</td>\n      <td>{'start': 3521, 'end': 3537, 'id': 'https://ww...</td>\n    </tr>\n    <tr>\n      <th>8125</th>\n      <td>Empire of the Ants 2020 BBC Documentary HD_370</td>\n      <td>Who'd be a Ranganathan when your dad tells all?</td>\n      <td>SENTENCE_LEVEL, DAVID ATTENBOROUGH: FULL DOCUM...</td>\n      <td>{'start': 3528, 'end': 3537, 'id': 'https://ww...</td>\n    </tr>\n    <tr>\n      <th>8126</th>\n      <td>Empire of the Ants 2020 BBC Documentary HD_371</td>\n      <td>Promess Ranganathan Irrational live next here ...</td>\n      <td>SENTENCE_LEVEL, DAVID ATTENBOROUGH: FULL DOCUM...</td>\n      <td>{'start': 3532, 'end': 3537, 'id': 'https://ww...</td>\n    </tr>\n  </tbody>\n</table>\n<p>8127 rows × 4 columns</p>\n</div>"
     },
     "metadata": {},
     "output_type": "display_data"
    }
   ],
   "source": [
    "\"\"\" Merge the two libraries and dump the result to an xlsx file \"\"\"\n",
    "multi_level_library = pd.concat([transcripts, sentences]).reset_index(drop=True).drop(\"Id\", axis=1)\n",
    "display(multi_level_library)\n",
    "\n",
    "multi_level_library.to_excel(\"uk_library\\\\attenborough_transcripts_and_sentences.xlsx\")"
   ],
   "metadata": {
    "collapsed": false
   }
  },
  {
   "cell_type": "code",
   "execution_count": 6,
   "outputs": [],
   "source": [],
   "metadata": {
    "collapsed": false
   }
  }
 ],
 "metadata": {
  "kernelspec": {
   "display_name": "Python 3",
   "language": "python",
   "name": "python3"
  },
  "language_info": {
   "codemirror_mode": {
    "name": "ipython",
    "version": 2
   },
   "file_extension": ".py",
   "mimetype": "text/x-python",
   "name": "python",
   "nbconvert_exporter": "python",
   "pygments_lexer": "ipython2",
   "version": "2.7.6"
  }
 },
 "nbformat": 4,
 "nbformat_minor": 0
}
