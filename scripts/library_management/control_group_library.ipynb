{
 "cells": [
  {
   "cell_type": "code",
   "execution_count": 1,
   "metadata": {
    "collapsed": true
   },
   "outputs": [],
   "source": [
    "import ast\n",
    "import pandas as pd"
   ]
  },
  {
   "cell_type": "code",
   "execution_count": 2,
   "outputs": [
    {
     "data": {
      "text/plain": "            Id                                               Name  \\\n0  -1ecuhQJwNU  Graph zur Ableitung und Stammfunktion | Mathe ...   \n1  -AyUqLeTtrE  Tangente, Tangentengleichung aufstellen mittel...   \n2  -PqSWya_6Vw  Ableitung Implizite Gleichung | Mathe by Danie...   \n3  -TZPuJaJV1A  Funktionen, E(x) Versionen, Wirtschaftsanwendu...   \n4  -fk6qn0c_Jk  Monotonie, Krümmung bei Funktionen, Übersicht ...   \n\n                                             Content  \\\n0  So der Graph der Ableitung und der Stammfunkti...   \n1  Aufstellen von Tangentengleichungen.\\nNicht ga...   \n2  Nehmen wir nochmal einen Ausdruck einer Gleich...   \n3  Da habe ich entsprechend jeweils eine Playlist...   \n4  Hier ist wieder so ein faszinierendes Beispiel...   \n\n                                                Tags  \\\n0  Differenzieren, Differentiation, Differenziati...   \n1  Bausteine allgemein+Sachzusammenhang, Kurvendi...   \n2  Differenziation, Ableitung, Ableiten, Differen...   \n3  base, Polynomfunktionen, Analysis, Ganzrationa...   \n4  base, Polynomfunktionen, Ganzrationale Funktio...   \n\n                                            Metadata  \n0  {'start': 0, 'end': 46, 'id': 'https://www.you...  \n1  {'start': 0, 'end': 43, 'id': 'https://www.you...  \n2  {'start': 0, 'end': 52, 'id': 'https://www.you...  \n3  {'start': 11, 'end': 65, 'id': 'https://www.yo...  \n4  {'start': 1, 'end': 23, 'id': 'https://www.you...  ",
      "text/html": "<div>\n<style scoped>\n    .dataframe tbody tr th:only-of-type {\n        vertical-align: middle;\n    }\n\n    .dataframe tbody tr th {\n        vertical-align: top;\n    }\n\n    .dataframe thead th {\n        text-align: right;\n    }\n</style>\n<table border=\"1\" class=\"dataframe\">\n  <thead>\n    <tr style=\"text-align: right;\">\n      <th></th>\n      <th>Id</th>\n      <th>Name</th>\n      <th>Content</th>\n      <th>Tags</th>\n      <th>Metadata</th>\n    </tr>\n  </thead>\n  <tbody>\n    <tr>\n      <th>0</th>\n      <td>-1ecuhQJwNU</td>\n      <td>Graph zur Ableitung und Stammfunktion | Mathe ...</td>\n      <td>So der Graph der Ableitung und der Stammfunkti...</td>\n      <td>Differenzieren, Differentiation, Differenziati...</td>\n      <td>{'start': 0, 'end': 46, 'id': 'https://www.you...</td>\n    </tr>\n    <tr>\n      <th>1</th>\n      <td>-AyUqLeTtrE</td>\n      <td>Tangente, Tangentengleichung aufstellen mittel...</td>\n      <td>Aufstellen von Tangentengleichungen.\\nNicht ga...</td>\n      <td>Bausteine allgemein+Sachzusammenhang, Kurvendi...</td>\n      <td>{'start': 0, 'end': 43, 'id': 'https://www.you...</td>\n    </tr>\n    <tr>\n      <th>2</th>\n      <td>-PqSWya_6Vw</td>\n      <td>Ableitung Implizite Gleichung | Mathe by Danie...</td>\n      <td>Nehmen wir nochmal einen Ausdruck einer Gleich...</td>\n      <td>Differenziation, Ableitung, Ableiten, Differen...</td>\n      <td>{'start': 0, 'end': 52, 'id': 'https://www.you...</td>\n    </tr>\n    <tr>\n      <th>3</th>\n      <td>-TZPuJaJV1A</td>\n      <td>Funktionen, E(x) Versionen, Wirtschaftsanwendu...</td>\n      <td>Da habe ich entsprechend jeweils eine Playlist...</td>\n      <td>base, Polynomfunktionen, Analysis, Ganzrationa...</td>\n      <td>{'start': 11, 'end': 65, 'id': 'https://www.yo...</td>\n    </tr>\n    <tr>\n      <th>4</th>\n      <td>-fk6qn0c_Jk</td>\n      <td>Monotonie, Krümmung bei Funktionen, Übersicht ...</td>\n      <td>Hier ist wieder so ein faszinierendes Beispiel...</td>\n      <td>base, Polynomfunktionen, Ganzrationale Funktio...</td>\n      <td>{'start': 1, 'end': 23, 'id': 'https://www.you...</td>\n    </tr>\n  </tbody>\n</table>\n</div>"
     },
     "execution_count": 2,
     "metadata": {},
     "output_type": "execute_result"
    }
   ],
   "source": [
    "\"\"\" Read transcripts \"\"\"\n",
    "transcripts = pd.read_excel(\"transcripts.xlsx\")\n",
    "transcripts.head()"
   ],
   "metadata": {
    "collapsed": false
   }
  },
  {
   "cell_type": "code",
   "execution_count": 3,
   "outputs": [
    {
     "data": {
      "text/plain": "            Id                                               Name  \\\n0  -1ecuhQJwNU  Graph zur Ableitung und Stammfunktion | Mathe ...   \n1  -AyUqLeTtrE  Tangente, Tangentengleichung aufstellen mittel...   \n2  -PqSWya_6Vw  Ableitung Implizite Gleichung | Mathe by Danie...   \n3  -TZPuJaJV1A  Funktionen, E(x) Versionen, Wirtschaftsanwendu...   \n4  -fk6qn0c_Jk  Monotonie, Krümmung bei Funktionen, Übersicht ...   \n\n                                             Content  \\\n0  Graph zur Ableitung und Stammfunktion | Mathe ...   \n1  Tangente, Tangentengleichung aufstellen mittel...   \n2  Ableitung Implizite Gleichung | Mathe by Danie...   \n3  Funktionen, E(x) Versionen, Wirtschaftsanwendu...   \n4  Monotonie, Krümmung bei Funktionen, Übersicht ...   \n\n                                                Tags  \\\n0  Differenzieren, Differentiation, Differenziati...   \n1  Bausteine allgemein+Sachzusammenhang, Kurvendi...   \n2  Differenziation, Ableitung, Ableiten, Differen...   \n3  base, Polynomfunktionen, Analysis, Ganzrationa...   \n4  base, Polynomfunktionen, Ganzrationale Funktio...   \n\n                                            Metadata  \n0  {'start': 0, 'end': 46, 'id': 'https://www.you...  \n1  {'start': 0, 'end': 43, 'id': 'https://www.you...  \n2  {'start': 0, 'end': 52, 'id': 'https://www.you...  \n3  {'start': 11, 'end': 65, 'id': 'https://www.yo...  \n4  {'start': 1, 'end': 23, 'id': 'https://www.you...  ",
      "text/html": "<div>\n<style scoped>\n    .dataframe tbody tr th:only-of-type {\n        vertical-align: middle;\n    }\n\n    .dataframe tbody tr th {\n        vertical-align: top;\n    }\n\n    .dataframe thead th {\n        text-align: right;\n    }\n</style>\n<table border=\"1\" class=\"dataframe\">\n  <thead>\n    <tr style=\"text-align: right;\">\n      <th></th>\n      <th>Id</th>\n      <th>Name</th>\n      <th>Content</th>\n      <th>Tags</th>\n      <th>Metadata</th>\n    </tr>\n  </thead>\n  <tbody>\n    <tr>\n      <th>0</th>\n      <td>-1ecuhQJwNU</td>\n      <td>Graph zur Ableitung und Stammfunktion | Mathe ...</td>\n      <td>Graph zur Ableitung und Stammfunktion | Mathe ...</td>\n      <td>Differenzieren, Differentiation, Differenziati...</td>\n      <td>{'start': 0, 'end': 46, 'id': 'https://www.you...</td>\n    </tr>\n    <tr>\n      <th>1</th>\n      <td>-AyUqLeTtrE</td>\n      <td>Tangente, Tangentengleichung aufstellen mittel...</td>\n      <td>Tangente, Tangentengleichung aufstellen mittel...</td>\n      <td>Bausteine allgemein+Sachzusammenhang, Kurvendi...</td>\n      <td>{'start': 0, 'end': 43, 'id': 'https://www.you...</td>\n    </tr>\n    <tr>\n      <th>2</th>\n      <td>-PqSWya_6Vw</td>\n      <td>Ableitung Implizite Gleichung | Mathe by Danie...</td>\n      <td>Ableitung Implizite Gleichung | Mathe by Danie...</td>\n      <td>Differenziation, Ableitung, Ableiten, Differen...</td>\n      <td>{'start': 0, 'end': 52, 'id': 'https://www.you...</td>\n    </tr>\n    <tr>\n      <th>3</th>\n      <td>-TZPuJaJV1A</td>\n      <td>Funktionen, E(x) Versionen, Wirtschaftsanwendu...</td>\n      <td>Funktionen, E(x) Versionen, Wirtschaftsanwendu...</td>\n      <td>base, Polynomfunktionen, Analysis, Ganzrationa...</td>\n      <td>{'start': 11, 'end': 65, 'id': 'https://www.yo...</td>\n    </tr>\n    <tr>\n      <th>4</th>\n      <td>-fk6qn0c_Jk</td>\n      <td>Monotonie, Krümmung bei Funktionen, Übersicht ...</td>\n      <td>Monotonie, Krümmung bei Funktionen, Übersicht ...</td>\n      <td>base, Polynomfunktionen, Ganzrationale Funktio...</td>\n      <td>{'start': 1, 'end': 23, 'id': 'https://www.you...</td>\n    </tr>\n  </tbody>\n</table>\n</div>"
     },
     "execution_count": 3,
     "metadata": {},
     "output_type": "execute_result"
    }
   ],
   "source": [
    "\"\"\" Modify content column to only include video title and description. \"\"\"\n",
    "control_group = transcripts\n",
    "control_group[\"Content\"] = transcripts[\"Name\"] + transcripts[\"Metadata\"].apply(lambda metadata: ast.literal_eval(metadata)[\"description\"])\n",
    "control_group.head()"
   ],
   "metadata": {
    "collapsed": false
   }
  },
  {
   "cell_type": "code",
   "execution_count": 4,
   "outputs": [],
   "source": [
    "\"\"\" Tag resulting documents accordingly. \"\"\"\n",
    "control_group[\"Tags\"] = control_group[\"Tags\"].apply(lambda tags: \"CONTROL, \" + tags)\n",
    "control_group.to_excel(\"control_group.xlsx\")"
   ],
   "metadata": {
    "collapsed": false
   }
  },
  {
   "cell_type": "code",
   "execution_count": 5,
   "outputs": [
    {
     "data": {
      "text/plain": "                                                    Name  \\\n0      Graph zur Ableitung und Stammfunktion | Mathe ...   \n1      Tangente, Tangentengleichung aufstellen mittel...   \n2      Ableitung Implizite Gleichung | Mathe by Danie...   \n3      Funktionen, E(x) Versionen, Wirtschaftsanwendu...   \n4      Monotonie, Krümmung bei Funktionen, Übersicht ...   \n...                                                  ...   \n17877    Punkt und Koordinaten | Mathe by Daniel Jung_42   \n17878    Punkt und Koordinaten | Mathe by Daniel Jung_43   \n17879    Punkt und Koordinaten | Mathe by Daniel Jung_44   \n17880    Punkt und Koordinaten | Mathe by Daniel Jung_45   \n17881    Punkt und Koordinaten | Mathe by Daniel Jung_46   \n\n                                                 Content  \\\n0      Graph zur Ableitung und Stammfunktion | Mathe ...   \n1      Tangente, Tangentengleichung aufstellen mittel...   \n2      Ableitung Implizite Gleichung | Mathe by Danie...   \n3      Funktionen, E(x) Versionen, Wirtschaftsanwendu...   \n4      Monotonie, Krümmung bei Funktionen, Übersicht ...   \n...                                                  ...   \n17877  Deshalb gut zu wissen, was ist überhaupt ein P...   \n17878  Und wenn man noch weiter in die Tiefe will, vo...   \n17879  Und ansonsten müsstet ihr hiermit gut durchkom...   \n17880  Ihr wisst, wenn doch noch irgendetwas ist, wen...   \n17881  dort könnt ihr immer eure Fragen posten und es...   \n\n                                                    Tags  \\\n0      CONTROL, Differenzieren, Differentiation, Diff...   \n1      CONTROL, Bausteine allgemein+Sachzusammenhang,...   \n2      CONTROL, Differenziation, Ableitung, Ableiten,...   \n3      CONTROL, base, Polynomfunktionen, Analysis, Ga...   \n4      CONTROL, base, Polynomfunktionen, Ganzrational...   \n...                                                  ...   \n17877  SENTENCE_LEVEL, Funktionsarten, Funktionstypen...   \n17878  SENTENCE_LEVEL, Funktionen Übersicht, base, Fu...   \n17879  SENTENCE_LEVEL, Funktionen Übersicht, Funktion...   \n17880  SENTENCE_LEVEL, Funktionen Übersicht, base, Fu...   \n17881  SENTENCE_LEVEL, Funktionen Übersicht, Funktion...   \n\n                                                Metadata  Unnamed: 0  Context  \\\n0      {'start': 0, 'end': 46, 'id': 'https://www.you...         NaN      NaN   \n1      {'start': 0, 'end': 43, 'id': 'https://www.you...         NaN      NaN   \n2      {'start': 0, 'end': 52, 'id': 'https://www.you...         NaN      NaN   \n3      {'start': 11, 'end': 65, 'id': 'https://www.yo...         NaN      NaN   \n4      {'start': 1, 'end': 23, 'id': 'https://www.you...         NaN      NaN   \n...                                                  ...         ...      ...   \n17877  {'start': 216, 'end': 246, 'id': 'https://www....     17392.0      NaN   \n17878  {'start': 220, 'end': 246, 'id': 'https://www....     17393.0      NaN   \n17879  {'start': 230, 'end': 246, 'id': 'https://www....     17394.0      NaN   \n17880  {'start': 233, 'end': 246, 'id': 'https://www....     17395.0      NaN   \n17881  {'start': 238, 'end': 246, 'id': 'https://www....     17396.0      NaN   \n\n       Color  Comment  \n0        NaN      NaN  \n1        NaN      NaN  \n2        NaN      NaN  \n3        NaN      NaN  \n4        NaN      NaN  \n...      ...      ...  \n17877    NaN      NaN  \n17878    NaN      NaN  \n17879    NaN      NaN  \n17880    NaN      NaN  \n17881    NaN      NaN  \n\n[17882 rows x 8 columns]",
      "text/html": "<div>\n<style scoped>\n    .dataframe tbody tr th:only-of-type {\n        vertical-align: middle;\n    }\n\n    .dataframe tbody tr th {\n        vertical-align: top;\n    }\n\n    .dataframe thead th {\n        text-align: right;\n    }\n</style>\n<table border=\"1\" class=\"dataframe\">\n  <thead>\n    <tr style=\"text-align: right;\">\n      <th></th>\n      <th>Name</th>\n      <th>Content</th>\n      <th>Tags</th>\n      <th>Metadata</th>\n      <th>Unnamed: 0</th>\n      <th>Context</th>\n      <th>Color</th>\n      <th>Comment</th>\n    </tr>\n  </thead>\n  <tbody>\n    <tr>\n      <th>0</th>\n      <td>Graph zur Ableitung und Stammfunktion | Mathe ...</td>\n      <td>Graph zur Ableitung und Stammfunktion | Mathe ...</td>\n      <td>CONTROL, Differenzieren, Differentiation, Diff...</td>\n      <td>{'start': 0, 'end': 46, 'id': 'https://www.you...</td>\n      <td>NaN</td>\n      <td>NaN</td>\n      <td>NaN</td>\n      <td>NaN</td>\n    </tr>\n    <tr>\n      <th>1</th>\n      <td>Tangente, Tangentengleichung aufstellen mittel...</td>\n      <td>Tangente, Tangentengleichung aufstellen mittel...</td>\n      <td>CONTROL, Bausteine allgemein+Sachzusammenhang,...</td>\n      <td>{'start': 0, 'end': 43, 'id': 'https://www.you...</td>\n      <td>NaN</td>\n      <td>NaN</td>\n      <td>NaN</td>\n      <td>NaN</td>\n    </tr>\n    <tr>\n      <th>2</th>\n      <td>Ableitung Implizite Gleichung | Mathe by Danie...</td>\n      <td>Ableitung Implizite Gleichung | Mathe by Danie...</td>\n      <td>CONTROL, Differenziation, Ableitung, Ableiten,...</td>\n      <td>{'start': 0, 'end': 52, 'id': 'https://www.you...</td>\n      <td>NaN</td>\n      <td>NaN</td>\n      <td>NaN</td>\n      <td>NaN</td>\n    </tr>\n    <tr>\n      <th>3</th>\n      <td>Funktionen, E(x) Versionen, Wirtschaftsanwendu...</td>\n      <td>Funktionen, E(x) Versionen, Wirtschaftsanwendu...</td>\n      <td>CONTROL, base, Polynomfunktionen, Analysis, Ga...</td>\n      <td>{'start': 11, 'end': 65, 'id': 'https://www.yo...</td>\n      <td>NaN</td>\n      <td>NaN</td>\n      <td>NaN</td>\n      <td>NaN</td>\n    </tr>\n    <tr>\n      <th>4</th>\n      <td>Monotonie, Krümmung bei Funktionen, Übersicht ...</td>\n      <td>Monotonie, Krümmung bei Funktionen, Übersicht ...</td>\n      <td>CONTROL, base, Polynomfunktionen, Ganzrational...</td>\n      <td>{'start': 1, 'end': 23, 'id': 'https://www.you...</td>\n      <td>NaN</td>\n      <td>NaN</td>\n      <td>NaN</td>\n      <td>NaN</td>\n    </tr>\n    <tr>\n      <th>...</th>\n      <td>...</td>\n      <td>...</td>\n      <td>...</td>\n      <td>...</td>\n      <td>...</td>\n      <td>...</td>\n      <td>...</td>\n      <td>...</td>\n    </tr>\n    <tr>\n      <th>17877</th>\n      <td>Punkt und Koordinaten | Mathe by Daniel Jung_42</td>\n      <td>Deshalb gut zu wissen, was ist überhaupt ein P...</td>\n      <td>SENTENCE_LEVEL, Funktionsarten, Funktionstypen...</td>\n      <td>{'start': 216, 'end': 246, 'id': 'https://www....</td>\n      <td>17392.0</td>\n      <td>NaN</td>\n      <td>NaN</td>\n      <td>NaN</td>\n    </tr>\n    <tr>\n      <th>17878</th>\n      <td>Punkt und Koordinaten | Mathe by Daniel Jung_43</td>\n      <td>Und wenn man noch weiter in die Tiefe will, vo...</td>\n      <td>SENTENCE_LEVEL, Funktionen Übersicht, base, Fu...</td>\n      <td>{'start': 220, 'end': 246, 'id': 'https://www....</td>\n      <td>17393.0</td>\n      <td>NaN</td>\n      <td>NaN</td>\n      <td>NaN</td>\n    </tr>\n    <tr>\n      <th>17879</th>\n      <td>Punkt und Koordinaten | Mathe by Daniel Jung_44</td>\n      <td>Und ansonsten müsstet ihr hiermit gut durchkom...</td>\n      <td>SENTENCE_LEVEL, Funktionen Übersicht, Funktion...</td>\n      <td>{'start': 230, 'end': 246, 'id': 'https://www....</td>\n      <td>17394.0</td>\n      <td>NaN</td>\n      <td>NaN</td>\n      <td>NaN</td>\n    </tr>\n    <tr>\n      <th>17880</th>\n      <td>Punkt und Koordinaten | Mathe by Daniel Jung_45</td>\n      <td>Ihr wisst, wenn doch noch irgendetwas ist, wen...</td>\n      <td>SENTENCE_LEVEL, Funktionen Übersicht, base, Fu...</td>\n      <td>{'start': 233, 'end': 246, 'id': 'https://www....</td>\n      <td>17395.0</td>\n      <td>NaN</td>\n      <td>NaN</td>\n      <td>NaN</td>\n    </tr>\n    <tr>\n      <th>17881</th>\n      <td>Punkt und Koordinaten | Mathe by Daniel Jung_46</td>\n      <td>dort könnt ihr immer eure Fragen posten und es...</td>\n      <td>SENTENCE_LEVEL, Funktionen Übersicht, Funktion...</td>\n      <td>{'start': 238, 'end': 246, 'id': 'https://www....</td>\n      <td>17396.0</td>\n      <td>NaN</td>\n      <td>NaN</td>\n      <td>NaN</td>\n    </tr>\n  </tbody>\n</table>\n<p>17882 rows × 8 columns</p>\n</div>"
     },
     "metadata": {},
     "output_type": "display_data"
    }
   ],
   "source": [
    "\"\"\" Merge with rest of library. \"\"\"\n",
    "transcripts_and_sentences = pd.read_excel(\"transcripts_and_sentences.xlsx\")\n",
    "full_library = pd.concat([control_group, transcripts_and_sentences]).reset_index(drop=True).drop(\"Id\", axis=1)\n",
    "display(full_library)"
   ],
   "metadata": {
    "collapsed": false
   }
  },
  {
   "cell_type": "code",
   "execution_count": 6,
   "outputs": [],
   "source": [
    "\"\"\" Dump to excel file. \"\"\"\n",
    "full_library.to_excel(\"full_library.xlsx\")"
   ],
   "metadata": {
    "collapsed": false
   }
  }
 ],
 "metadata": {
  "kernelspec": {
   "display_name": "Python 3",
   "language": "python",
   "name": "python3"
  },
  "language_info": {
   "codemirror_mode": {
    "name": "ipython",
    "version": 2
   },
   "file_extension": ".py",
   "mimetype": "text/x-python",
   "name": "python",
   "nbconvert_exporter": "python",
   "pygments_lexer": "ipython2",
   "version": "2.7.6"
  }
 },
 "nbformat": 4,
 "nbformat_minor": 0
}
