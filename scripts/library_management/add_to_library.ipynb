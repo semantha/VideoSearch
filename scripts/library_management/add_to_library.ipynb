{
 "cells": [
  {
   "cell_type": "code",
   "execution_count": 1,
   "metadata": {
    "collapsed": true
   },
   "outputs": [
    {
     "name": "stderr",
     "output_type": "stream",
     "text": [
      "C:\\Users\\TomKaminski\\Documents\\AIEDN\\.venv\\Lib\\site-packages\\openpyxl\\styles\\stylesheet.py:226: UserWarning: Workbook contains no default style, apply openpyxl's default\n",
      "  warn(\"Workbook contains no default style, apply openpyxl's default\")\n"
     ]
    }
   ],
   "source": [
    "import pandas as pd\n",
    "import ast\n",
    "from urllib.parse import urlparse, parse_qs\n",
    "from os.path import commonprefix\n",
    "\n",
    "\"\"\" New sentences \"\"\"\n",
    "new_sentences = pd.read_excel(\"new_sentences.xlsx\")\n",
    "\n",
    "\"\"\" New transcripts \"\"\"\n",
    "def parse_id(metadata):\n",
    "    url = ast.literal_eval(metadata)[\"id\"]\n",
    "    query_params = parse_qs(urlparse(url).query)\n",
    "    return query_params[\"v\"][0]\n",
    "\n",
    "new_transcripts = new_sentences.groupby(by=lambda i: parse_id(new_sentences.Metadata.loc[i])).agg({\n",
    "    \"Name\": lambda names: commonprefix(list(names))[:-1],\n",
    "    \"Content\": \"\\n\".join,\n",
    "    \"Tags\": \"first\",\n",
    "    \"Metadata\": \"first\",\n",
    "}).reset_index(drop=True)\n",
    "\n",
    "\"\"\" New controls \"\"\"\n",
    "new_controls = pd.DataFrame({\n",
    "    \"Name\": new_transcripts.Name,\n",
    "    \"Content\": new_transcripts.Name + new_transcripts.Metadata.apply(lambda metadata: ast.literal_eval(metadata)[\"description\"]),\n",
    "    \"Tags\": new_transcripts.Tags,\n",
    "    \"Metadata\": new_transcripts.Metadata\n",
    "})\n",
    "\n",
    "new_sentences[\"Tags\"] = new_sentences[\"Tags\"].apply(lambda tags: \"SENTENCE_LEVEL, \" + tags)\n",
    "new_transcripts[\"Tags\"] = new_transcripts[\"Tags\"].apply(lambda tags: \"TRANSCRIPT_LEVEL, \" + tags)\n",
    "new_controls[\"Tags\"] = new_controls[\"Tags\"].apply(lambda tags: \"CONTROL, \" + tags)\n",
    "\n",
    "# Merge into current library\n",
    "lib = pd.read_excel(\"Backup-03-03-2023.xlsx\")\n",
    "lib = pd.concat([lib, new_sentences, new_transcripts, new_controls], ignore_index=True)\n",
    "\n",
    "# Remove university-level playlist\n",
    "videos_to_remove = [\"ttUWTu3jusA\", \"6V13YiuJ-nc\", \"PY4k_BlAlSU\", \"K6mHqvq8G0w\", \"byjdCpCNsBg\",\n",
    "                    \"AFiOJfQDs6E\", \"UyTKlAs9I-M\", \"0c82055Tvwg\", \"DZu5M0g5IbQ\", \"DZu5M0g5IbQ\",\n",
    "                    \"SVNB-jCV7gM\", \"LDGfWynJrGg\", \"bC3BUHhxzFQ\", \"RsqeDCDT6Kg\", \"kY2OKQfasAs\",\n",
    "                    \"qPHdGX8Lf54\", \"AoA2T3dPuwk\", \"COjis7G-aQY\", \"hLk2ujAk1pk\", \"O-UheXfQqNE\",\n",
    "                    \"D2dZ-z2e6K4\", \"o3ENskH6fKo\", \"8NI38LxYvwY\", \"E5pl7b1OChE\", \"ok05H5I2y9A\",\n",
    "                    \"bcn6WN0iv_s\", \"gzb94vOW2i8\", \"Y8g4S-PfeDU\", \"o4Y2A-CSQwg\", \"58W1oArE8p8\",\n",
    "                    \"8Snag_AgNyU\"]\n",
    "\n",
    "lib = lib[lib[\"Metadata\"].apply(lambda metadata: parse_id(metadata) not in videos_to_remove)]\n",
    "lib.to_excel(\"enriched_lib.xlsx\")\n"
   ]
  }
 ],
 "metadata": {
  "kernelspec": {
   "display_name": "Python 3",
   "language": "python",
   "name": "python3"
  },
  "language_info": {
   "codemirror_mode": {
    "name": "ipython",
    "version": 2
   },
   "file_extension": ".py",
   "mimetype": "text/x-python",
   "name": "python",
   "nbconvert_exporter": "python",
   "pygments_lexer": "ipython2",
   "version": "2.7.6"
  }
 },
 "nbformat": 4,
 "nbformat_minor": 0
}
