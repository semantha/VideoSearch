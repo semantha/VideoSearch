{
 "cells": [
  {
   "cell_type": "code",
   "execution_count": 2,
   "metadata": {
    "collapsed": true
   },
   "outputs": [],
   "source": [
    "import pandas as pd"
   ]
  },
  {
   "cell_type": "code",
   "execution_count": 11,
   "outputs": [
    {
     "name": "stdout",
     "output_type": "stream",
     "text": [
      "C:\\Users\\TomKaminski\\Documents\\VideoSearch\\video_transcription\\postprocessing\n"
     ]
    }
   ],
   "source": [
    "import os\n",
    "print(os.getcwd())\n",
    "library = pd.read_excel(\"../data/IBM Engineering Lifecycle Management/IBM Engineering Lifecycle Management.xlsx\")"
   ],
   "metadata": {
    "collapsed": false
   }
  },
  {
   "cell_type": "code",
   "execution_count": 12,
   "outputs": [
    {
     "data": {
      "text/plain": "   Unnamed: 0                                               Name   \n0           0  Enable Insightful Engineering With IBM and 321...  \\\n1           1  Enable Insightful Engineering With IBM and 321...   \n2           2  Enable Insightful Engineering With IBM and 321...   \n3           3  Enable Insightful Engineering With IBM and 321...   \n4           4  Enable Insightful Engineering With IBM and 321...   \n\n                                             Content   \n0   If you work in any of these industries, you'v...  \\\n1   If you work in any of these industries, you'v...   \n2   process manually with a legacy approach to co...   \n3   IBM Platinum Business Partner 321 Gang specia...   \n4   Platform, which automates the systems and sof...   \n\n                                            Metadata   \n0  {'url': 'https://www.youtube.com/watch?v=INs20...  \\\n1  {'url': 'https://www.youtube.com/watch?v=INs20...   \n2  {'url': 'https://www.youtube.com/watch?v=INs20...   \n3  {'url': 'https://www.youtube.com/watch?v=INs20...   \n4  {'url': 'https://www.youtube.com/watch?v=INs20...   \n\n                                                Tags  \n0  ['TRANSCRIPT', 'IBM Engineering Lifecycle Mana...  \n1  ['SEGMENT', 'IBM Engineering Lifecycle Managem...  \n2  ['SEGMENT', 'IBM Engineering Lifecycle Managem...  \n3  ['SEGMENT', 'IBM Engineering Lifecycle Managem...  \n4  ['SEGMENT', 'IBM Engineering Lifecycle Managem...  ",
      "text/html": "<div>\n<style scoped>\n    .dataframe tbody tr th:only-of-type {\n        vertical-align: middle;\n    }\n\n    .dataframe tbody tr th {\n        vertical-align: top;\n    }\n\n    .dataframe thead th {\n        text-align: right;\n    }\n</style>\n<table border=\"1\" class=\"dataframe\">\n  <thead>\n    <tr style=\"text-align: right;\">\n      <th></th>\n      <th>Unnamed: 0</th>\n      <th>Name</th>\n      <th>Content</th>\n      <th>Metadata</th>\n      <th>Tags</th>\n    </tr>\n  </thead>\n  <tbody>\n    <tr>\n      <th>0</th>\n      <td>0</td>\n      <td>Enable Insightful Engineering With IBM and 321...</td>\n      <td>If you work in any of these industries, you'v...</td>\n      <td>{'url': 'https://www.youtube.com/watch?v=INs20...</td>\n      <td>['TRANSCRIPT', 'IBM Engineering Lifecycle Mana...</td>\n    </tr>\n    <tr>\n      <th>1</th>\n      <td>1</td>\n      <td>Enable Insightful Engineering With IBM and 321...</td>\n      <td>If you work in any of these industries, you'v...</td>\n      <td>{'url': 'https://www.youtube.com/watch?v=INs20...</td>\n      <td>['SEGMENT', 'IBM Engineering Lifecycle Managem...</td>\n    </tr>\n    <tr>\n      <th>2</th>\n      <td>2</td>\n      <td>Enable Insightful Engineering With IBM and 321...</td>\n      <td>process manually with a legacy approach to co...</td>\n      <td>{'url': 'https://www.youtube.com/watch?v=INs20...</td>\n      <td>['SEGMENT', 'IBM Engineering Lifecycle Managem...</td>\n    </tr>\n    <tr>\n      <th>3</th>\n      <td>3</td>\n      <td>Enable Insightful Engineering With IBM and 321...</td>\n      <td>IBM Platinum Business Partner 321 Gang specia...</td>\n      <td>{'url': 'https://www.youtube.com/watch?v=INs20...</td>\n      <td>['SEGMENT', 'IBM Engineering Lifecycle Managem...</td>\n    </tr>\n    <tr>\n      <th>4</th>\n      <td>4</td>\n      <td>Enable Insightful Engineering With IBM and 321...</td>\n      <td>Platform, which automates the systems and sof...</td>\n      <td>{'url': 'https://www.youtube.com/watch?v=INs20...</td>\n      <td>['SEGMENT', 'IBM Engineering Lifecycle Managem...</td>\n    </tr>\n  </tbody>\n</table>\n</div>"
     },
     "execution_count": 12,
     "metadata": {},
     "output_type": "execute_result"
    }
   ],
   "source": [
    "library.head()"
   ],
   "metadata": {
    "collapsed": false
   }
  },
  {
   "cell_type": "code",
   "execution_count": 14,
   "outputs": [
    {
     "data": {
      "text/plain": "0       {'url': 'https://www.youtube.com/watch?v=INs20...\n1       {'url': 'https://www.youtube.com/watch?v=INs20...\n2       {'url': 'https://www.youtube.com/watch?v=INs20...\n3       {'url': 'https://www.youtube.com/watch?v=INs20...\n4       {'url': 'https://www.youtube.com/watch?v=INs20...\n                              ...                        \n4462    {'url': 'https://www.youtube.com/watch?v=zSJS5...\n4463    {'url': 'https://www.youtube.com/watch?v=zSJS5...\n4464    {'url': 'https://www.youtube.com/watch?v=zSJS5...\n4465    {'url': 'https://www.youtube.com/watch?v=zSJS5...\n4466    {'url': 'https://www.youtube.com/watch?v=zSJS5...\nName: Metadata, Length: 4467, dtype: object"
     },
     "execution_count": 14,
     "metadata": {},
     "output_type": "execute_result"
    }
   ],
   "source": [
    "import ast\n",
    "def remove_description(metadata: str):\n",
    "    metadata: dict = ast.literal_eval(metadata)\n",
    "    del metadata[\"description\"]\n",
    "    return str(metadata)\n",
    "\n",
    "library.Metadata = library.Metadata.apply(lambda x: remove_description(x))\n",
    "library.Metadata"
   ],
   "metadata": {
    "collapsed": false
   }
  },
  {
   "cell_type": "code",
   "execution_count": 15,
   "outputs": [],
   "source": [
    "library.to_excel(\"../data/IBM Engineering Lifecycle Management/PROCESSED IBM Engineering Lifecycle Management.xlsx\")"
   ],
   "metadata": {
    "collapsed": false
   }
  }
 ],
 "metadata": {
  "kernelspec": {
   "display_name": "Python 3",
   "language": "python",
   "name": "python3"
  },
  "language_info": {
   "codemirror_mode": {
    "name": "ipython",
    "version": 2
   },
   "file_extension": ".py",
   "mimetype": "text/x-python",
   "name": "python",
   "nbconvert_exporter": "python",
   "pygments_lexer": "ipython2",
   "version": "2.7.6"
  }
 },
 "nbformat": 4,
 "nbformat_minor": 0
}
